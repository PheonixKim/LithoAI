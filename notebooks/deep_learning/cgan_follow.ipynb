{
 "cells": [
  {
   "cell_type": "code",
   "execution_count": 1,
   "metadata": {
    "id": "Uqerux_DRCtl"
   },
   "outputs": [],
   "source": [
    "import pandas as pd\n",
    "import matplotlib as mpl\n",
    "import numpy as np\n",
    "import seaborn as sns\n",
    "import matplotlib.pyplot as plt\n",
    "\n",
    "import torch\n",
    "import torch.nn as nn\n",
    "\n",
    "%matplotlib inline"
   ]
  },
  {
   "cell_type": "code",
   "execution_count": 2,
   "metadata": {},
   "outputs": [],
   "source": [
    "from pathlib import Path\n",
    "\n",
    "data= Path('../data')"
   ]
  },
  {
   "cell_type": "markdown",
   "metadata": {
    "id": "PlHBNRLkLJwd"
   },
   "source": [
    "#라이브러리 불러오기"
   ]
  },
  {
   "cell_type": "markdown",
   "metadata": {
    "id": "7BYEN_alLM1T"
   },
   "source": [
    "#입력 데이터 설정"
   ]
  },
  {
   "cell_type": "code",
   "execution_count": 3,
   "metadata": {
    "id": "r4HLvxk1UQRh"
   },
   "outputs": [],
   "source": [
    "condition = 1\n",
    "\n",
    "if (condition==1):\n",
    "    input_data = pd.read_csv(data / 'BABCdata_condition_1.zip', compression='zip',\n",
    "                            usecols = ['TE_r','n3','k3','d3','n2','k2','d2'])\n",
    "elif (condition==2):\n",
    "    input_data = pd.read_csv(data / 'BABCdata_edit_condition_2.zip', compression='zip',\n",
    "                            usecols = ['TE_r','n3','k3','d3','n2','k2','d2'])\n",
    "elif (condition==3):\n",
    "    input_data = pd.read_csv(data / 'BABCdata_condition_3.zip', compression='zip',\n",
    "                            usecols = ['TE_r','n3','k3','d3','n2','k2','d2'])\n",
    "else:\n",
    "    print(\"올바른 condition이 아닙니다.\")"
   ]
  },
  {
   "cell_type": "code",
   "execution_count": 4,
   "metadata": {
    "colab": {
     "base_uri": "https://localhost:8080/",
     "height": 195
    },
    "executionInfo": {
     "elapsed": 2978,
     "status": "ok",
     "timestamp": 1604126639982,
     "user": {
      "displayName": "김패트릭",
      "photoUrl": "https://lh3.googleusercontent.com/a-/AOh14Ggk4i2oEhizUSHPNnkx7q-F1k0UbUPLdU2PB-Impw=s64",
      "userId": "04245091220473243894"
     },
     "user_tz": -540
    },
    "id": "stFIhboTM-Bk",
    "outputId": "26a96ade-4bb9-460b-979a-4e76de12685e"
   },
   "outputs": [
    {
     "data": {
      "text/html": [
       "<div>\n",
       "<style scoped>\n",
       "    .dataframe tbody tr th:only-of-type {\n",
       "        vertical-align: middle;\n",
       "    }\n",
       "\n",
       "    .dataframe tbody tr th {\n",
       "        vertical-align: top;\n",
       "    }\n",
       "\n",
       "    .dataframe thead th {\n",
       "        text-align: right;\n",
       "    }\n",
       "</style>\n",
       "<table border=\"1\" class=\"dataframe\">\n",
       "  <thead>\n",
       "    <tr style=\"text-align: right;\">\n",
       "      <th></th>\n",
       "      <th>TE_r</th>\n",
       "      <th>n3</th>\n",
       "      <th>k3</th>\n",
       "      <th>d3</th>\n",
       "      <th>n2</th>\n",
       "      <th>k2</th>\n",
       "      <th>d2</th>\n",
       "    </tr>\n",
       "  </thead>\n",
       "  <tbody>\n",
       "    <tr>\n",
       "      <th>0</th>\n",
       "      <td>68.0107</td>\n",
       "      <td>1.69</td>\n",
       "      <td>0.01</td>\n",
       "      <td>48.5</td>\n",
       "      <td>1.85</td>\n",
       "      <td>0.01</td>\n",
       "      <td>48.500</td>\n",
       "    </tr>\n",
       "    <tr>\n",
       "      <th>1</th>\n",
       "      <td>68.0126</td>\n",
       "      <td>1.69</td>\n",
       "      <td>0.01</td>\n",
       "      <td>48.5</td>\n",
       "      <td>1.85</td>\n",
       "      <td>0.01</td>\n",
       "      <td>48.505</td>\n",
       "    </tr>\n",
       "    <tr>\n",
       "      <th>2</th>\n",
       "      <td>68.0146</td>\n",
       "      <td>1.69</td>\n",
       "      <td>0.01</td>\n",
       "      <td>48.5</td>\n",
       "      <td>1.85</td>\n",
       "      <td>0.01</td>\n",
       "      <td>48.510</td>\n",
       "    </tr>\n",
       "    <tr>\n",
       "      <th>3</th>\n",
       "      <td>68.0165</td>\n",
       "      <td>1.69</td>\n",
       "      <td>0.01</td>\n",
       "      <td>48.5</td>\n",
       "      <td>1.85</td>\n",
       "      <td>0.01</td>\n",
       "      <td>48.515</td>\n",
       "    </tr>\n",
       "    <tr>\n",
       "      <th>4</th>\n",
       "      <td>68.0184</td>\n",
       "      <td>1.69</td>\n",
       "      <td>0.01</td>\n",
       "      <td>48.5</td>\n",
       "      <td>1.85</td>\n",
       "      <td>0.01</td>\n",
       "      <td>48.520</td>\n",
       "    </tr>\n",
       "  </tbody>\n",
       "</table>\n",
       "</div>"
      ],
      "text/plain": [
       "      TE_r    n3    k3    d3    n2    k2      d2\n",
       "0  68.0107  1.69  0.01  48.5  1.85  0.01  48.500\n",
       "1  68.0126  1.69  0.01  48.5  1.85  0.01  48.505\n",
       "2  68.0146  1.69  0.01  48.5  1.85  0.01  48.510\n",
       "3  68.0165  1.69  0.01  48.5  1.85  0.01  48.515\n",
       "4  68.0184  1.69  0.01  48.5  1.85  0.01  48.520"
      ]
     },
     "execution_count": 4,
     "metadata": {},
     "output_type": "execute_result"
    }
   ],
   "source": [
    "input_data.head()"
   ]
  },
  {
   "cell_type": "markdown",
   "metadata": {
    "id": "K6aqu35Cb930"
   },
   "source": [
    "#라벨링 설정및 불필요 변수 제거"
   ]
  },
  {
   "cell_type": "code",
   "execution_count": 7,
   "metadata": {
    "id": "EA8DDDvINQD3"
   },
   "outputs": [],
   "source": [
    "X_data = input_data.copy()"
   ]
  },
  {
   "cell_type": "markdown",
   "metadata": {
    "id": "Jt7ku26dU5Mg"
   },
   "source": [
    "데이터 경량화(선택)"
   ]
  },
  {
   "cell_type": "code",
   "execution_count": null,
   "metadata": {
    "id": "_0setRalU-V1"
   },
   "outputs": [],
   "source": [
    "# 전체적인 데이터량을 줄여버리는데 그중에 라벨링의 값이 40이 넘는 부분을 버린다.\n",
    "#X_data = X_data[X_data.label < 40]"
   ]
  },
  {
   "cell_type": "code",
   "execution_count": 8,
   "metadata": {
    "id": "A8hJPtQ3SquN"
   },
   "outputs": [],
   "source": [
    "y = X_data['TE_r']"
   ]
  },
  {
   "cell_type": "code",
   "execution_count": 9,
   "metadata": {},
   "outputs": [],
   "source": [
    "X_data.drop('TE_r', axis=1, inplace=True)"
   ]
  },
  {
   "cell_type": "code",
   "execution_count": 10,
   "metadata": {
    "colab": {
     "base_uri": "https://localhost:8080/",
     "height": 195
    },
    "executionInfo": {
     "elapsed": 1404,
     "status": "ok",
     "timestamp": 1604172718069,
     "user": {
      "displayName": "김패트릭",
      "photoUrl": "https://lh3.googleusercontent.com/a-/AOh14Ggk4i2oEhizUSHPNnkx7q-F1k0UbUPLdU2PB-Impw=s64",
      "userId": "04245091220473243894"
     },
     "user_tz": -540
    },
    "id": "bq7g5zcGSuDn",
    "outputId": "2e5bb31b-5cee-46b7-abc2-3d7bc2c66006"
   },
   "outputs": [
    {
     "data": {
      "text/html": [
       "<div>\n",
       "<style scoped>\n",
       "    .dataframe tbody tr th:only-of-type {\n",
       "        vertical-align: middle;\n",
       "    }\n",
       "\n",
       "    .dataframe tbody tr th {\n",
       "        vertical-align: top;\n",
       "    }\n",
       "\n",
       "    .dataframe thead th {\n",
       "        text-align: right;\n",
       "    }\n",
       "</style>\n",
       "<table border=\"1\" class=\"dataframe\">\n",
       "  <thead>\n",
       "    <tr style=\"text-align: right;\">\n",
       "      <th></th>\n",
       "      <th>n3</th>\n",
       "      <th>k3</th>\n",
       "      <th>d3</th>\n",
       "      <th>n2</th>\n",
       "      <th>k2</th>\n",
       "      <th>d2</th>\n",
       "    </tr>\n",
       "  </thead>\n",
       "  <tbody>\n",
       "    <tr>\n",
       "      <th>0</th>\n",
       "      <td>1.69</td>\n",
       "      <td>0.01</td>\n",
       "      <td>48.5</td>\n",
       "      <td>1.85</td>\n",
       "      <td>0.01</td>\n",
       "      <td>48.500</td>\n",
       "    </tr>\n",
       "    <tr>\n",
       "      <th>1</th>\n",
       "      <td>1.69</td>\n",
       "      <td>0.01</td>\n",
       "      <td>48.5</td>\n",
       "      <td>1.85</td>\n",
       "      <td>0.01</td>\n",
       "      <td>48.505</td>\n",
       "    </tr>\n",
       "    <tr>\n",
       "      <th>2</th>\n",
       "      <td>1.69</td>\n",
       "      <td>0.01</td>\n",
       "      <td>48.5</td>\n",
       "      <td>1.85</td>\n",
       "      <td>0.01</td>\n",
       "      <td>48.510</td>\n",
       "    </tr>\n",
       "    <tr>\n",
       "      <th>3</th>\n",
       "      <td>1.69</td>\n",
       "      <td>0.01</td>\n",
       "      <td>48.5</td>\n",
       "      <td>1.85</td>\n",
       "      <td>0.01</td>\n",
       "      <td>48.515</td>\n",
       "    </tr>\n",
       "    <tr>\n",
       "      <th>4</th>\n",
       "      <td>1.69</td>\n",
       "      <td>0.01</td>\n",
       "      <td>48.5</td>\n",
       "      <td>1.85</td>\n",
       "      <td>0.01</td>\n",
       "      <td>48.520</td>\n",
       "    </tr>\n",
       "  </tbody>\n",
       "</table>\n",
       "</div>"
      ],
      "text/plain": [
       "     n3    k3    d3    n2    k2      d2\n",
       "0  1.69  0.01  48.5  1.85  0.01  48.500\n",
       "1  1.69  0.01  48.5  1.85  0.01  48.505\n",
       "2  1.69  0.01  48.5  1.85  0.01  48.510\n",
       "3  1.69  0.01  48.5  1.85  0.01  48.515\n",
       "4  1.69  0.01  48.5  1.85  0.01  48.520"
      ]
     },
     "execution_count": 10,
     "metadata": {},
     "output_type": "execute_result"
    }
   ],
   "source": [
    "X_data.head()"
   ]
  },
  {
   "cell_type": "markdown",
   "metadata": {
    "id": "XjZ5EwFVQLsn"
   },
   "source": [
    "# Labeling 분포 확인"
   ]
  },
  {
   "cell_type": "code",
   "execution_count": 11,
   "metadata": {
    "colab": {
     "base_uri": "https://localhost:8080/",
     "height": 134
    },
    "executionInfo": {
     "elapsed": 2423,
     "status": "error",
     "timestamp": 1604727191151,
     "user": {
      "displayName": "김패트릭",
      "photoUrl": "https://lh3.googleusercontent.com/a-/AOh14Ggk4i2oEhizUSHPNnkx7q-F1k0UbUPLdU2PB-Impw=s64",
      "userId": "04245091220473243894"
     },
     "user_tz": -540
    },
    "id": "4XuvLPv-ffdM",
    "outputId": "493911d5-9497-46eb-c09f-ce9274dff94c"
   },
   "outputs": [
    {
     "data": {
      "text/plain": [
       "65.9964    134\n",
       "64.5936    131\n",
       "65.9650    130\n",
       "64.7321    129\n",
       "64.6034    129\n",
       "          ... \n",
       "62.7464      1\n",
       "68.0780      1\n",
       "61.5923      1\n",
       "61.6425      1\n",
       "61.6318      1\n",
       "Name: TE_r, Length: 71818, dtype: int64"
      ]
     },
     "execution_count": 11,
     "metadata": {},
     "output_type": "execute_result"
    }
   ],
   "source": [
    "y.value_counts()"
   ]
  },
  {
   "cell_type": "code",
   "execution_count": 12,
   "metadata": {},
   "outputs": [
    {
     "data": {
      "text/plain": [
       "<AxesSubplot:xlabel='TE_r', ylabel='Count'>"
      ]
     },
     "execution_count": 12,
     "metadata": {},
     "output_type": "execute_result"
    },
    {
     "data": {
      "image/png": "[encoded data removed]",
      "text/plain": [
       "<Figure size 720x288 with 1 Axes>"
      ]
     },
     "metadata": {
      "needs_background": "light"
     },
     "output_type": "display_data"
    }
   ],
   "source": [
    "_, ax = plt.subplots(figsize=(10,4))\n",
    "sns.histplot(data = y)"
   ]
  },
  {
   "cell_type": "markdown",
   "metadata": {
    "id": "a2C_148IQP0e"
   },
   "source": [
    "y.value_counts().sort_index()# XGBClassfier 모델"
   ]
  },
  {
   "cell_type": "markdown",
   "metadata": {
    "id": "k9RsEDuOQGfC"
   },
   "source": [
    "# Train Test dataset 분리"
   ]
  },
  {
   "cell_type": "code",
   "execution_count": 13,
   "metadata": {
    "id": "tLGiZzJqfbJP"
   },
   "outputs": [],
   "source": [
    "from sklearn.model_selection import train_test_split\n",
    "\n",
    "X_rest, X_test, y_rest, y_test = train_test_split(X_data, y, random_state=1234)\n",
    "X_train, X_valid, y_train, y_valid = train_test_split(X_rest, y_rest, random_state=1234)"
   ]
  },
  {
   "cell_type": "markdown",
   "metadata": {},
   "source": [
    "# 모델 생성"
   ]
  },
  {
   "cell_type": "code",
   "execution_count": null,
   "metadata": {},
   "outputs": [],
   "source": []
  }
 ],
 "metadata": {
  "colab": {
   "authorship_tag": "ABX9TyPBEePjBAZrbZ4sj3GxHzjT",
   "collapsed_sections": [
    "0VGwphi8QWnc",
    "elhfEFQqiiT0",
    "aehwEkTZlbuK"
   ],
   "name": "10/20_Litho_condition2.ipynb",
   "provenance": []
  },
  "kernelspec": {
   "display_name": "Python 3",
   "language": "python",
   "name": "python3"
  },
  "language_info": {
   "codemirror_mode": {
    "name": "ipython",
    "version": 3
   },
   "file_extension": ".py",
   "mimetype": "text/x-python",
   "name": "python",
   "nbconvert_exporter": "python",
   "pygments_lexer": "ipython3",
   "version": "3.8.5"
  }
 },
 "nbformat": 4,
 "nbformat_minor": 4
}
