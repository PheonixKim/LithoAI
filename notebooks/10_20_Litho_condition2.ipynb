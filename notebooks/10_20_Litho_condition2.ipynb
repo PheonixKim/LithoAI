{
 "cells": [
  {
   "cell_type": "code",
   "execution_count": 1,
   "metadata": {
    "id": "Uqerux_DRCtl"
   },
   "outputs": [],
   "source": [
    "import pandas as pd\n",
    "import matplotlib as mpl\n",
    "import numpy as np\n",
    "import seaborn as sns\n",
    "import matplotlib.pyplot as plt\n",
    "\n",
    "\n",
    "# 이미지에 들어가는 한글을 제대로 보기 위해 한글 폰트 적용\n",
    "import platform\n",
    "font_dict = {\n",
    "    'Linux': 'Noto Sans CJK KR',\n",
    "    'Darwin': 'Apple SD Gothic Neo', # macOS\n",
    "    'Windows': 'Malgun Gothic' # MS-Windows\n",
    "}\n",
    "try:\n",
    "    mpl.rc('font', family=font_dict[platform.system()])\n",
    "except:\n",
    "    pass\n",
    "mpl.rc('axes', unicode_minus=False) # mpl.rcParams['axes.unicode_minus'] = False\n",
    "\n",
    "%matplotlib inline"
   ]
  },
  {
   "cell_type": "code",
   "execution_count": 2,
   "metadata": {},
   "outputs": [],
   "source": [
    "from pathlib import Path\n",
    "\n",
    "data= Path('../data')"
   ]
  },
  {
   "cell_type": "markdown",
   "metadata": {
    "id": "PlHBNRLkLJwd"
   },
   "source": [
    "#라이브러리 불러오기"
   ]
  },
  {
   "cell_type": "markdown",
   "metadata": {
    "id": "7BYEN_alLM1T"
   },
   "source": [
    "#입력 데이터 설정"
   ]
  },
  {
   "cell_type": "code",
   "execution_count": 3,
   "metadata": {
    "id": "r4HLvxk1UQRh"
   },
   "outputs": [],
   "source": [
    "# 위의 라벨링 데이터와는 별개의 mode 설정\n",
    "\n",
    "condition = 2\n",
    "#usecols=['대여소_구', '대여소ID'\n",
    "if (condition==1):\n",
    "    input_data = pd.read_csv(data / 'BABCdata_condition_1.zip', compression='zip',\n",
    "                            usecols = ['TE_r','n3','k3','d3','n2','k2','d2'])\n",
    "elif (condition==2):\n",
    "    input_data = pd.read_csv(data / 'BABCdata_edit_condition_2.zip', compression='zip',\n",
    "                            usecols = ['TE_r','n3','k3','d3','n2','k2','d2'])\n",
    "elif (condition==3):\n",
    "    input_data = pd.read_csv(data / 'BABCdata_condition_3.zip', compression='zip',\n",
    "                            usecols = ['TE_r','n3','k3','d3','n2','k2','d2'])\n",
    "else:\n",
    "    print(\"올바른 condition이 아닙니다.\")"
   ]
  },
  {
   "cell_type": "code",
   "execution_count": 4,
   "metadata": {
    "colab": {
     "base_uri": "https://localhost:8080/",
     "height": 195
    },
    "executionInfo": {
     "elapsed": 2978,
     "status": "ok",
     "timestamp": 1604126639982,
     "user": {
      "displayName": "김패트릭",
      "photoUrl": "https://lh3.googleusercontent.com/a-/AOh14Ggk4i2oEhizUSHPNnkx7q-F1k0UbUPLdU2PB-Impw=s64",
      "userId": "04245091220473243894"
     },
     "user_tz": -540
    },
    "id": "stFIhboTM-Bk",
    "outputId": "26a96ade-4bb9-460b-979a-4e76de12685e"
   },
   "outputs": [
    {
     "data": {
      "text/html": [
       "<div>\n",
       "<style scoped>\n",
       "    .dataframe tbody tr th:only-of-type {\n",
       "        vertical-align: middle;\n",
       "    }\n",
       "\n",
       "    .dataframe tbody tr th {\n",
       "        vertical-align: top;\n",
       "    }\n",
       "\n",
       "    .dataframe thead th {\n",
       "        text-align: right;\n",
       "    }\n",
       "</style>\n",
       "<table border=\"1\" class=\"dataframe\">\n",
       "  <thead>\n",
       "    <tr style=\"text-align: right;\">\n",
       "      <th></th>\n",
       "      <th>TE_r</th>\n",
       "      <th>n3</th>\n",
       "      <th>k3</th>\n",
       "      <th>d3</th>\n",
       "      <th>n2</th>\n",
       "      <th>k2</th>\n",
       "      <th>d2</th>\n",
       "    </tr>\n",
       "  </thead>\n",
       "  <tbody>\n",
       "    <tr>\n",
       "      <th>0</th>\n",
       "      <td>68.0107</td>\n",
       "      <td>1.69</td>\n",
       "      <td>0.01</td>\n",
       "      <td>48.5</td>\n",
       "      <td>1.85</td>\n",
       "      <td>0.01</td>\n",
       "      <td>48.500</td>\n",
       "    </tr>\n",
       "    <tr>\n",
       "      <th>1</th>\n",
       "      <td>68.0126</td>\n",
       "      <td>1.69</td>\n",
       "      <td>0.01</td>\n",
       "      <td>48.5</td>\n",
       "      <td>1.85</td>\n",
       "      <td>0.01</td>\n",
       "      <td>48.505</td>\n",
       "    </tr>\n",
       "    <tr>\n",
       "      <th>2</th>\n",
       "      <td>68.0146</td>\n",
       "      <td>1.69</td>\n",
       "      <td>0.01</td>\n",
       "      <td>48.5</td>\n",
       "      <td>1.85</td>\n",
       "      <td>0.01</td>\n",
       "      <td>48.510</td>\n",
       "    </tr>\n",
       "    <tr>\n",
       "      <th>3</th>\n",
       "      <td>68.0165</td>\n",
       "      <td>1.69</td>\n",
       "      <td>0.01</td>\n",
       "      <td>48.5</td>\n",
       "      <td>1.85</td>\n",
       "      <td>0.01</td>\n",
       "      <td>48.515</td>\n",
       "    </tr>\n",
       "    <tr>\n",
       "      <th>4</th>\n",
       "      <td>68.0184</td>\n",
       "      <td>1.69</td>\n",
       "      <td>0.01</td>\n",
       "      <td>48.5</td>\n",
       "      <td>1.85</td>\n",
       "      <td>0.01</td>\n",
       "      <td>48.520</td>\n",
       "    </tr>\n",
       "  </tbody>\n",
       "</table>\n",
       "</div>"
      ],
      "text/plain": [
       "      TE_r    n3    k3    d3    n2    k2      d2\n",
       "0  68.0107  1.69  0.01  48.5  1.85  0.01  48.500\n",
       "1  68.0126  1.69  0.01  48.5  1.85  0.01  48.505\n",
       "2  68.0146  1.69  0.01  48.5  1.85  0.01  48.510\n",
       "3  68.0165  1.69  0.01  48.5  1.85  0.01  48.515\n",
       "4  68.0184  1.69  0.01  48.5  1.85  0.01  48.520"
      ]
     },
     "execution_count": 4,
     "metadata": {},
     "output_type": "execute_result"
    }
   ],
   "source": [
    "input_data.head()"
   ]
  },
  {
   "cell_type": "code",
   "execution_count": 5,
   "metadata": {
    "colab": {
     "base_uri": "https://localhost:8080/"
    },
    "executionInfo": {
     "elapsed": 2967,
     "status": "ok",
     "timestamp": 1604126639984,
     "user": {
      "displayName": "김패트릭",
      "photoUrl": "https://lh3.googleusercontent.com/a-/AOh14Ggk4i2oEhizUSHPNnkx7q-F1k0UbUPLdU2PB-Impw=s64",
      "userId": "04245091220473243894"
     },
     "user_tz": -540
    },
    "id": "-_59YjRYNH1V",
    "outputId": "40b692a3-476d-4e2b-9ddb-b3d73cab9832"
   },
   "outputs": [
    {
     "name": "stdout",
     "output_type": "stream",
     "text": [
      "<class 'pandas.core.frame.DataFrame'>\n",
      "RangeIndex: 3060300 entries, 0 to 3060299\n",
      "Data columns (total 7 columns):\n",
      " #   Column  Dtype  \n",
      "---  ------  -----  \n",
      " 0   TE_r    float64\n",
      " 1   n3      float64\n",
      " 2   k3      float64\n",
      " 3   d3      float64\n",
      " 4   n2      float64\n",
      " 5   k2      float64\n",
      " 6   d2      float64\n",
      "dtypes: float64(7)\n",
      "memory usage: 163.4 MB\n"
     ]
    }
   ],
   "source": [
    "input_data.info()"
   ]
  },
  {
   "cell_type": "code",
   "execution_count": null,
   "metadata": {
    "colab": {
     "base_uri": "https://localhost:8080/",
     "height": 321
    },
    "executionInfo": {
     "elapsed": 4263,
     "status": "ok",
     "timestamp": 1604126641290,
     "user": {
      "displayName": "김패트릭",
      "photoUrl": "https://lh3.googleusercontent.com/a-/AOh14Ggk4i2oEhizUSHPNnkx7q-F1k0UbUPLdU2PB-Impw=s64",
      "userId": "04245091220473243894"
     },
     "user_tz": -540
    },
    "id": "XmQ5PWbANII6",
    "outputId": "4351b868-77f9-4ab0-aa79-8a9808fafabc"
   },
   "outputs": [],
   "source": [
    "input_data.describe()"
   ]
  },
  {
   "cell_type": "code",
   "execution_count": 6,
   "metadata": {},
   "outputs": [
    {
     "data": {
      "text/plain": [
       "<AxesSubplot:>"
      ]
     },
     "execution_count": 6,
     "metadata": {},
     "output_type": "execute_result"
    },
    {
     "data": {
      "image/png": "[encoded data removed]",
      "text/plain": [
       "<Figure size 1800x720 with 2 Axes>"
      ]
     },
     "metadata": {
      "needs_background": "light"
     },
     "output_type": "display_data"
    }
   ],
   "source": [
    "import missingno as msno\n",
    "\n",
    "msno.matrix(input_data)"
   ]
  },
  {
   "cell_type": "markdown",
   "metadata": {
    "id": "K6aqu35Cb930"
   },
   "source": [
    "#라벨링 설정및 불필요 변수 제거"
   ]
  },
  {
   "cell_type": "code",
   "execution_count": 7,
   "metadata": {
    "id": "EA8DDDvINQD3"
   },
   "outputs": [],
   "source": [
    "X_data = input_data.copy()"
   ]
  },
  {
   "cell_type": "markdown",
   "metadata": {
    "id": "Jt7ku26dU5Mg"
   },
   "source": [
    "데이터 경량화(선택)"
   ]
  },
  {
   "cell_type": "code",
   "execution_count": null,
   "metadata": {
    "id": "_0setRalU-V1"
   },
   "outputs": [],
   "source": [
    "# 전체적인 데이터량을 줄여버리는데 그중에 라벨링의 값이 40이 넘는 부분을 버린다.\n",
    "#X_data = X_data[X_data.label < 40]"
   ]
  },
  {
   "cell_type": "code",
   "execution_count": 8,
   "metadata": {
    "id": "A8hJPtQ3SquN"
   },
   "outputs": [],
   "source": [
    "y = X_data['TE_r']"
   ]
  },
  {
   "cell_type": "code",
   "execution_count": 9,
   "metadata": {},
   "outputs": [],
   "source": [
    "X_data.drop('TE_r', axis=1, inplace=True)"
   ]
  },
  {
   "cell_type": "code",
   "execution_count": 10,
   "metadata": {
    "colab": {
     "base_uri": "https://localhost:8080/",
     "height": 195
    },
    "executionInfo": {
     "elapsed": 1404,
     "status": "ok",
     "timestamp": 1604172718069,
     "user": {
      "displayName": "김패트릭",
      "photoUrl": "https://lh3.googleusercontent.com/a-/AOh14Ggk4i2oEhizUSHPNnkx7q-F1k0UbUPLdU2PB-Impw=s64",
      "userId": "04245091220473243894"
     },
     "user_tz": -540
    },
    "id": "bq7g5zcGSuDn",
    "outputId": "2e5bb31b-5cee-46b7-abc2-3d7bc2c66006"
   },
   "outputs": [
    {
     "data": {
      "text/html": [
       "<div>\n",
       "<style scoped>\n",
       "    .dataframe tbody tr th:only-of-type {\n",
       "        vertical-align: middle;\n",
       "    }\n",
       "\n",
       "    .dataframe tbody tr th {\n",
       "        vertical-align: top;\n",
       "    }\n",
       "\n",
       "    .dataframe thead th {\n",
       "        text-align: right;\n",
       "    }\n",
       "</style>\n",
       "<table border=\"1\" class=\"dataframe\">\n",
       "  <thead>\n",
       "    <tr style=\"text-align: right;\">\n",
       "      <th></th>\n",
       "      <th>n3</th>\n",
       "      <th>k3</th>\n",
       "      <th>d3</th>\n",
       "      <th>n2</th>\n",
       "      <th>k2</th>\n",
       "      <th>d2</th>\n",
       "    </tr>\n",
       "  </thead>\n",
       "  <tbody>\n",
       "    <tr>\n",
       "      <th>0</th>\n",
       "      <td>1.69</td>\n",
       "      <td>0.01</td>\n",
       "      <td>48.5</td>\n",
       "      <td>1.85</td>\n",
       "      <td>0.01</td>\n",
       "      <td>48.500</td>\n",
       "    </tr>\n",
       "    <tr>\n",
       "      <th>1</th>\n",
       "      <td>1.69</td>\n",
       "      <td>0.01</td>\n",
       "      <td>48.5</td>\n",
       "      <td>1.85</td>\n",
       "      <td>0.01</td>\n",
       "      <td>48.505</td>\n",
       "    </tr>\n",
       "    <tr>\n",
       "      <th>2</th>\n",
       "      <td>1.69</td>\n",
       "      <td>0.01</td>\n",
       "      <td>48.5</td>\n",
       "      <td>1.85</td>\n",
       "      <td>0.01</td>\n",
       "      <td>48.510</td>\n",
       "    </tr>\n",
       "    <tr>\n",
       "      <th>3</th>\n",
       "      <td>1.69</td>\n",
       "      <td>0.01</td>\n",
       "      <td>48.5</td>\n",
       "      <td>1.85</td>\n",
       "      <td>0.01</td>\n",
       "      <td>48.515</td>\n",
       "    </tr>\n",
       "    <tr>\n",
       "      <th>4</th>\n",
       "      <td>1.69</td>\n",
       "      <td>0.01</td>\n",
       "      <td>48.5</td>\n",
       "      <td>1.85</td>\n",
       "      <td>0.01</td>\n",
       "      <td>48.520</td>\n",
       "    </tr>\n",
       "  </tbody>\n",
       "</table>\n",
       "</div>"
      ],
      "text/plain": [
       "     n3    k3    d3    n2    k2      d2\n",
       "0  1.69  0.01  48.5  1.85  0.01  48.500\n",
       "1  1.69  0.01  48.5  1.85  0.01  48.505\n",
       "2  1.69  0.01  48.5  1.85  0.01  48.510\n",
       "3  1.69  0.01  48.5  1.85  0.01  48.515\n",
       "4  1.69  0.01  48.5  1.85  0.01  48.520"
      ]
     },
     "execution_count": 10,
     "metadata": {},
     "output_type": "execute_result"
    }
   ],
   "source": [
    "X_data.head()"
   ]
  },
  {
   "cell_type": "markdown",
   "metadata": {
    "id": "XjZ5EwFVQLsn"
   },
   "source": [
    "# Labeling 분포 확인"
   ]
  },
  {
   "cell_type": "code",
   "execution_count": 11,
   "metadata": {
    "colab": {
     "base_uri": "https://localhost:8080/",
     "height": 134
    },
    "executionInfo": {
     "elapsed": 2423,
     "status": "error",
     "timestamp": 1604727191151,
     "user": {
      "displayName": "김패트릭",
      "photoUrl": "https://lh3.googleusercontent.com/a-/AOh14Ggk4i2oEhizUSHPNnkx7q-F1k0UbUPLdU2PB-Impw=s64",
      "userId": "04245091220473243894"
     },
     "user_tz": -540
    },
    "id": "4XuvLPv-ffdM",
    "outputId": "493911d5-9497-46eb-c09f-ce9274dff94c"
   },
   "outputs": [
    {
     "data": {
      "text/plain": [
       "65.9964    134\n",
       "64.5936    131\n",
       "65.9650    130\n",
       "64.7321    129\n",
       "64.6034    129\n",
       "          ... \n",
       "62.7464      1\n",
       "68.0780      1\n",
       "61.5923      1\n",
       "61.6425      1\n",
       "61.6318      1\n",
       "Name: TE_r, Length: 71818, dtype: int64"
      ]
     },
     "execution_count": 11,
     "metadata": {},
     "output_type": "execute_result"
    }
   ],
   "source": [
    "y.value_counts()"
   ]
  },
  {
   "cell_type": "code",
   "execution_count": 12,
   "metadata": {},
   "outputs": [
    {
     "data": {
      "text/plain": [
       "<AxesSubplot:xlabel='TE_r', ylabel='Count'>"
      ]
     },
     "execution_count": 12,
     "metadata": {},
     "output_type": "execute_result"
    },
    {
     "data": {
      "image/png": "[encoded data removed]",
      "text/plain": [
       "<Figure size 720x288 with 1 Axes>"
      ]
     },
     "metadata": {
      "needs_background": "light"
     },
     "output_type": "display_data"
    }
   ],
   "source": [
    "_, ax = plt.subplots(figsize=(10,4))\n",
    "sns.histplot(data = y)"
   ]
  },
  {
   "cell_type": "markdown",
   "metadata": {
    "id": "a2C_148IQP0e"
   },
   "source": [
    "y.value_counts().sort_index()# XGBClassfier 모델"
   ]
  },
  {
   "cell_type": "markdown",
   "metadata": {
    "id": "k9RsEDuOQGfC"
   },
   "source": [
    "# Train Test dataset 분리"
   ]
  },
  {
   "cell_type": "code",
   "execution_count": 13,
   "metadata": {
    "id": "tLGiZzJqfbJP"
   },
   "outputs": [],
   "source": [
    "from sklearn.model_selection import train_test_split\n",
    "\n",
    "X_rest, X_test, y_rest, y_test = train_test_split(X_data, y, random_state=1234)\n",
    "X_train, X_valid, y_train, y_valid = train_test_split(X_rest, y_rest, random_state=1234)"
   ]
  },
  {
   "cell_type": "code",
   "execution_count": null,
   "metadata": {},
   "outputs": [],
   "source": [
    "'''\n",
    "y에 대해서 원핫 인코딩을 해주어야한다(수치형이라서 불필요)\n",
    "혹은 0~1값으면 맞춰주어야 예측에서 작동할듯?\n",
    "'''"
   ]
  },
  {
   "cell_type": "code",
   "execution_count": 14,
   "metadata": {
    "id": "WYNooDTv9DCh"
   },
   "outputs": [
    {
     "data": {
      "text/plain": [
       "{'objective': 'reg:squarederror',\n",
       " 'base_score': None,\n",
       " 'booster': None,\n",
       " 'colsample_bylevel': None,\n",
       " 'colsample_bynode': None,\n",
       " 'colsample_bytree': None,\n",
       " 'gamma': None,\n",
       " 'gpu_id': None,\n",
       " 'interaction_constraints': None,\n",
       " 'learning_rate': 0.2,\n",
       " 'max_delta_step': None,\n",
       " 'max_depth': 9,\n",
       " 'min_child_weight': None,\n",
       " 'monotone_constraints': None,\n",
       " 'n_jobs': None,\n",
       " 'num_parallel_tree': None,\n",
       " 'random_state': 1234,\n",
       " 'reg_alpha': None,\n",
       " 'reg_lambda': None,\n",
       " 'scale_pos_weight': None,\n",
       " 'subsample': 0.6,\n",
       " 'tree_method': None,\n",
       " 'validate_parameters': None,\n",
       " 'verbosity': None}"
      ]
     },
     "execution_count": 14,
     "metadata": {},
     "output_type": "execute_result"
    }
   ],
   "source": [
    "# subsample 0.8이랑 0.6 차이 확인해보기\n",
    "import xgboost as xgb\n",
    "\n",
    "bst = xgb.XGBRegressor(n_estimators=100, \n",
    "                       #objective='reg:',\n",
    "                       learning_rate=0.2,\n",
    "                       max_depth=9, \n",
    "                       subsample=0.6,\n",
    "                       random_state=1234)\n",
    "\n",
    "bst\n",
    "bst.get_xgb_params()"
   ]
  },
  {
   "cell_type": "code",
   "execution_count": 15,
   "metadata": {
    "colab": {
     "base_uri": "https://localhost:8080/"
    },
    "executionInfo": {
     "elapsed": 35813253,
     "status": "ok",
     "timestamp": 1604208546007,
     "user": {
      "displayName": "김패트릭",
      "photoUrl": "https://lh3.googleusercontent.com/a-/AOh14Ggk4i2oEhizUSHPNnkx7q-F1k0UbUPLdU2PB-Impw=s64",
      "userId": "04245091220473243894"
     },
     "user_tz": -540
    },
    "id": "Gk2FV4no1_-s",
    "outputId": "b6cca5ad-bf68-4893-9474-b6084b16f820"
   },
   "outputs": [
    {
     "name": "stdout",
     "output_type": "stream",
     "text": [
      "[0]\tvalidation_0-rmse:51.87427\n",
      "Will train until validation_0-rmse hasn't improved in 10 rounds.\n",
      "[1]\tvalidation_0-rmse:41.49979\n",
      "[2]\tvalidation_0-rmse:33.20018\n",
      "[3]\tvalidation_0-rmse:26.56049\n",
      "[4]\tvalidation_0-rmse:21.24867\n",
      "[5]\tvalidation_0-rmse:16.99927\n",
      "[6]\tvalidation_0-rmse:13.59974\n",
      "[7]\tvalidation_0-rmse:10.88011\n",
      "[8]\tvalidation_0-rmse:8.70440\n",
      "[9]\tvalidation_0-rmse:6.96385\n",
      "[10]\tvalidation_0-rmse:5.57138\n",
      "[11]\tvalidation_0-rmse:4.45737\n",
      "[12]\tvalidation_0-rmse:3.56617\n",
      "[13]\tvalidation_0-rmse:2.85320\n",
      "[14]\tvalidation_0-rmse:2.28280\n",
      "[15]\tvalidation_0-rmse:1.82646\n",
      "[16]\tvalidation_0-rmse:1.46137\n",
      "[17]\tvalidation_0-rmse:1.16928\n",
      "[18]\tvalidation_0-rmse:0.93558\n",
      "[19]\tvalidation_0-rmse:0.74863\n",
      "[20]\tvalidation_0-rmse:0.59904\n",
      "[21]\tvalidation_0-rmse:0.47937\n",
      "[22]\tvalidation_0-rmse:0.38362\n",
      "[23]\tvalidation_0-rmse:0.30703\n",
      "[24]\tvalidation_0-rmse:0.24576\n",
      "[25]\tvalidation_0-rmse:0.19676\n",
      "[26]\tvalidation_0-rmse:0.15756\n",
      "[27]\tvalidation_0-rmse:0.12623\n",
      "[28]\tvalidation_0-rmse:0.10118\n",
      "[29]\tvalidation_0-rmse:0.08116\n",
      "[30]\tvalidation_0-rmse:0.06519\n",
      "[31]\tvalidation_0-rmse:0.05246\n",
      "[32]\tvalidation_0-rmse:0.04234\n",
      "[33]\tvalidation_0-rmse:0.03431\n",
      "[34]\tvalidation_0-rmse:0.02798\n",
      "[35]\tvalidation_0-rmse:0.02303\n",
      "[36]\tvalidation_0-rmse:0.01915\n",
      "[37]\tvalidation_0-rmse:0.01619\n",
      "[38]\tvalidation_0-rmse:0.01397\n",
      "[39]\tvalidation_0-rmse:0.01229\n",
      "[40]\tvalidation_0-rmse:0.01111\n",
      "[41]\tvalidation_0-rmse:0.01026\n",
      "[42]\tvalidation_0-rmse:0.00967\n",
      "[43]\tvalidation_0-rmse:0.00918\n",
      "[44]\tvalidation_0-rmse:0.00891\n",
      "[45]\tvalidation_0-rmse:0.00868\n",
      "[46]\tvalidation_0-rmse:0.00852\n",
      "[47]\tvalidation_0-rmse:0.00838\n",
      "[48]\tvalidation_0-rmse:0.00830\n",
      "[49]\tvalidation_0-rmse:0.00823\n",
      "[50]\tvalidation_0-rmse:0.00815\n",
      "[51]\tvalidation_0-rmse:0.00811\n",
      "[52]\tvalidation_0-rmse:0.00806\n",
      "[53]\tvalidation_0-rmse:0.00799\n",
      "[54]\tvalidation_0-rmse:0.00798\n",
      "[55]\tvalidation_0-rmse:0.00794\n",
      "[56]\tvalidation_0-rmse:0.00784\n",
      "[57]\tvalidation_0-rmse:0.00783\n",
      "[58]\tvalidation_0-rmse:0.00779\n",
      "[59]\tvalidation_0-rmse:0.00775\n",
      "[60]\tvalidation_0-rmse:0.00763\n",
      "[61]\tvalidation_0-rmse:0.00759\n",
      "[62]\tvalidation_0-rmse:0.00755\n",
      "[63]\tvalidation_0-rmse:0.00751\n",
      "[64]\tvalidation_0-rmse:0.00742\n",
      "[65]\tvalidation_0-rmse:0.00736\n",
      "[66]\tvalidation_0-rmse:0.00735\n",
      "[67]\tvalidation_0-rmse:0.00728\n",
      "[68]\tvalidation_0-rmse:0.00727\n",
      "[69]\tvalidation_0-rmse:0.00724\n",
      "[70]\tvalidation_0-rmse:0.00718\n",
      "[71]\tvalidation_0-rmse:0.00713\n",
      "[72]\tvalidation_0-rmse:0.00711\n",
      "[73]\tvalidation_0-rmse:0.00707\n",
      "[74]\tvalidation_0-rmse:0.00705\n",
      "[75]\tvalidation_0-rmse:0.00690\n",
      "[76]\tvalidation_0-rmse:0.00685\n",
      "[77]\tvalidation_0-rmse:0.00680\n",
      "[78]\tvalidation_0-rmse:0.00679\n",
      "[79]\tvalidation_0-rmse:0.00671\n",
      "[80]\tvalidation_0-rmse:0.00666\n",
      "[81]\tvalidation_0-rmse:0.00661\n",
      "[82]\tvalidation_0-rmse:0.00658\n",
      "[83]\tvalidation_0-rmse:0.00645\n",
      "[84]\tvalidation_0-rmse:0.00638\n",
      "[85]\tvalidation_0-rmse:0.00637\n",
      "[86]\tvalidation_0-rmse:0.00635\n",
      "[87]\tvalidation_0-rmse:0.00633\n",
      "[88]\tvalidation_0-rmse:0.00626\n",
      "[89]\tvalidation_0-rmse:0.00624\n",
      "[90]\tvalidation_0-rmse:0.00619\n",
      "[91]\tvalidation_0-rmse:0.00617\n",
      "[92]\tvalidation_0-rmse:0.00614\n",
      "[93]\tvalidation_0-rmse:0.00613\n",
      "[94]\tvalidation_0-rmse:0.00609\n",
      "[95]\tvalidation_0-rmse:0.00608\n",
      "[96]\tvalidation_0-rmse:0.00599\n",
      "[97]\tvalidation_0-rmse:0.00595\n",
      "[98]\tvalidation_0-rmse:0.00585\n",
      "[99]\tvalidation_0-rmse:0.00580\n"
     ]
    },
    {
     "data": {
      "text/plain": [
       "XGBRegressor(base_score=0.5, booster='gbtree', colsample_bylevel=1,\n",
       "             colsample_bynode=1, colsample_bytree=1, gamma=0, gpu_id=-1,\n",
       "             importance_type='gain', interaction_constraints='',\n",
       "             learning_rate=0.2, max_delta_step=0, max_depth=9,\n",
       "             min_child_weight=1, missing=nan, monotone_constraints='()',\n",
       "             n_estimators=100, n_jobs=0, num_parallel_tree=1, random_state=1234,\n",
       "             reg_alpha=0, reg_lambda=1, scale_pos_weight=1, subsample=0.6,\n",
       "             tree_method='exact', validate_parameters=1, verbosity=None)"
      ]
     },
     "execution_count": 15,
     "metadata": {},
     "output_type": "execute_result"
    }
   ],
   "source": [
    "evals = [(X_valid,y_valid)]\n",
    "bst.fit(X_train, y_train, \n",
    "        early_stopping_rounds=10, \n",
    "        eval_metric = [\"rmse\"], \n",
    "        eval_set=evals, \n",
    "        verbose=1\n",
    ")"
   ]
  },
  {
   "cell_type": "code",
   "execution_count": 16,
   "metadata": {},
   "outputs": [
    {
     "data": {
      "text/plain": [
       "array([2.7243616e-03, 6.9873834e-01, 6.5257493e-04, 1.6650485e-03,\n",
       "       2.9585135e-01, 3.6828208e-04], dtype=float32)"
      ]
     },
     "execution_count": 16,
     "metadata": {},
     "output_type": "execute_result"
    }
   ],
   "source": [
    "bst.feature_importances_"
   ]
  },
  {
   "cell_type": "markdown",
   "metadata": {
    "id": "kFdhAFwVQY3z"
   },
   "source": [
    "# 모델 검증 및 시각화"
   ]
  },
  {
   "cell_type": "code",
   "execution_count": 36,
   "metadata": {
    "colab": {
     "base_uri": "https://localhost:8080/"
    },
    "executionInfo": {
     "elapsed": 42347615,
     "status": "ok",
     "timestamp": 1604215084018,
     "user": {
      "displayName": "김패트릭",
      "photoUrl": "https://lh3.googleusercontent.com/a-/AOh14Ggk4i2oEhizUSHPNnkx7q-F1k0UbUPLdU2PB-Impw=s64",
      "userId": "04245091220473243894"
     },
     "user_tz": -540
    },
    "id": "abHbfrt5h2jh",
    "outputId": "2cfea8c9-7c18-4daa-d5ef-db42583d0f1d"
   },
   "outputs": [
    {
     "name": "stdout",
     "output_type": "stream",
     "text": [
      "[62.1963  67.32852 62.31784 ... 65.44993 68.55011 67.40049]\n"
     ]
    }
   ],
   "source": [
    "from sklearn.metrics import accuracy_score\n",
    "\n",
    "y_pred = bst.predict(X_test)\n",
    "print(y_pred)\n",
    "\n",
    "#print('정확도 :', accuracy_score(y_test, y_pred.round()))"
   ]
  },
  {
   "cell_type": "markdown",
   "metadata": {
    "id": "4AMmNeIEx1R0"
   },
   "source": [
    "모델 오류 참고자료\n",
    "\n",
    "https://github.com/dmlc/xgboost/issues/2073\n",
    "\n",
    "https://github.com/dmlc/xgboost/issues/3828"
   ]
  },
  {
   "cell_type": "code",
   "execution_count": null,
   "metadata": {
    "colab": {
     "base_uri": "https://localhost:8080/",
     "height": 1000
    },
    "executionInfo": {
     "elapsed": 42357518,
     "status": "ok",
     "timestamp": 1604215100560,
     "user": {
      "displayName": "김패트릭",
      "photoUrl": "https://lh3.googleusercontent.com/a-/AOh14Ggk4i2oEhizUSHPNnkx7q-F1k0UbUPLdU2PB-Impw=s64",
      "userId": "04245091220473243894"
     },
     "user_tz": -540
    },
    "id": "mCqtSFTkKsbS",
    "outputId": "e2eef192-d18e-492a-a8dd-5b2a4374111c"
   },
   "outputs": [],
   "source": [
    "# 방금시험했던 모델에서는 num_trees가 0~1799개 까지 있었다\n",
    "xgb.to_graphviz(bst, num_trees=1)"
   ]
  },
  {
   "cell_type": "code",
   "execution_count": 18,
   "metadata": {
    "colab": {
     "base_uri": "https://localhost:8080/",
     "height": 513
    },
    "executionInfo": {
     "elapsed": 42366180,
     "status": "ok",
     "timestamp": 1604215112965,
     "user": {
      "displayName": "김패트릭",
      "photoUrl": "https://lh3.googleusercontent.com/a-/AOh14Ggk4i2oEhizUSHPNnkx7q-F1k0UbUPLdU2PB-Impw=s64",
      "userId": "04245091220473243894"
     },
     "user_tz": -540
    },
    "id": "xcTzm_FLh6xD",
    "outputId": "2a5af74b-13e6-4c53-f1a6-f64b7716cb89"
   },
   "outputs": [
    {
     "data": {
      "image/png": "[encoded data removed]",
      "text/plain": [
       "<Figure size 432x288 with 1 Axes>"
      ]
     },
     "metadata": {
      "needs_background": "light"
     },
     "output_type": "display_data"
    }
   ],
   "source": [
    "# importance_type 얻을 수 있나싶네요\n",
    "xgb.plot_importance(bst)\n",
    "plt.rcParams['figure.figsize'] = [10,8]"
   ]
  },
  {
   "cell_type": "markdown",
   "metadata": {
    "id": "3q3eK8dNj5OP"
   },
   "source": [
    "# 모델 튜닝"
   ]
  },
  {
   "cell_type": "markdown",
   "metadata": {
    "id": "qBn2Lv3nLsjA"
   },
   "source": [
    "GridSearch 방법"
   ]
  },
  {
   "cell_type": "code",
   "execution_count": null,
   "metadata": {
    "colab": {
     "base_uri": "https://localhost:8080/"
    },
    "id": "aOUHmnKuh9zv",
    "outputId": "c8f5f66b-60ec-4858-adc4-1e7c0fda7041"
   },
   "outputs": [],
   "source": [
    "from sklearn.model_selection import GridSearchCV\n",
    "\n",
    "bst_param_grid = {\n",
    "    'learning_rate' : [0.2, 0.3, 0.4],\n",
    "    'max_depth' : [2, 3, 4],\n",
    "}\n",
    "\n",
    "bst_grid = GridSearchCV(bst, param_grid= bst_param_grid, scoring='accuracy', n_jobs=-1, verbose=1)\n",
    "bst_grid.fit(X_train, y_train)"
   ]
  },
  {
   "cell_type": "code",
   "execution_count": null,
   "metadata": {
    "colab": {
     "base_uri": "https://localhost:8080/",
     "height": 387
    },
    "executionInfo": {
     "elapsed": 806315,
     "status": "ok",
     "timestamp": 1598756778551,
     "user": {
      "displayName": "김패트릭",
      "photoUrl": "https://lh3.googleusercontent.com/a-/AOh14Ggk4i2oEhizUSHPNnkx7q-F1k0UbUPLdU2PB-Impw=s64",
      "userId": "04245091220473243894"
     },
     "user_tz": -540
    },
    "id": "YYaIIprbzsF0",
    "outputId": "361ae5e3-e2b8-4252-a270-9a42522e2036"
   },
   "outputs": [],
   "source": [
    "bst_grid_df = pd.DataFrame(bst_grid.cv_results_)\n",
    "bst_grid_df"
   ]
  },
  {
   "cell_type": "markdown",
   "metadata": {
    "id": "0VGwphi8QWnc"
   },
   "source": [
    "# 모델 저장\n",
    "\n",
    "제대로 저장이 안되는 느낌\n",
    "colab 환경이라 그런가?"
   ]
  },
  {
   "cell_type": "code",
   "execution_count": 26,
   "metadata": {
    "id": "MMqS6QEazGXT"
   },
   "outputs": [],
   "source": [
    "bst.save_model('test.json')"
   ]
  },
  {
   "cell_type": "markdown",
   "metadata": {
    "id": "aehwEkTZlbuK"
   },
   "source": [
    "# 모델 로드"
   ]
  },
  {
   "cell_type": "code",
   "execution_count": 29,
   "metadata": {},
   "outputs": [],
   "source": [
    "from pathlib import Path\n",
    "\n",
    "load_data= Path('../notebooks')"
   ]
  },
  {
   "cell_type": "code",
   "execution_count": 31,
   "metadata": {
    "id": "OKf4xMP-lbN2"
   },
   "outputs": [
    {
     "data": {
      "text/plain": [
       "XGBRegressor(base_score=0.5, booster='gbtree', colsample_bylevel=1,\n",
       "             colsample_bynode=1, colsample_bytree=1, gamma=0, gpu_id=-1,\n",
       "             importance_type='gain', interaction_constraints='',\n",
       "             learning_rate=0.2, max_delta_step=0, max_depth=9,\n",
       "             min_child_weight=1, missing=nan, monotone_constraints='()',\n",
       "             n_estimators=100, n_jobs=0, num_parallel_tree=1, random_state=1234,\n",
       "             reg_alpha=0, reg_lambda=1, scale_pos_weight=1, subsample=0.6,\n",
       "             tree_method='auto', validate_parameters=1, verbosity=None)"
      ]
     },
     "execution_count": 31,
     "metadata": {},
     "output_type": "execute_result"
    }
   ],
   "source": [
    "reg = xgb.XGBRegressor(random_state=1234)\n",
    "\n",
    "\n",
    "reg.load_model(load_data/'test.json')"
   ]
  },
  {
   "cell_type": "code",
   "execution_count": 32,
   "metadata": {},
   "outputs": [
    {
     "data": {
      "text/plain": [
       "<AxesSubplot:title={'center':'Feature importance'}, xlabel='F score', ylabel='Features'>"
      ]
     },
     "execution_count": 32,
     "metadata": {},
     "output_type": "execute_result"
    },
    {
     "data": {
      "image/png": "[encoded data removed]",
      "text/plain": [
       "<Figure size 720x576 with 1 Axes>"
      ]
     },
     "metadata": {
      "needs_background": "light"
     },
     "output_type": "display_data"
    }
   ],
   "source": [
    "xgb.plot_importance(reg)"
   ]
  }
 ],
 "metadata": {
  "colab": {
   "authorship_tag": "ABX9TyPBEePjBAZrbZ4sj3GxHzjT",
   "collapsed_sections": [
    "0VGwphi8QWnc",
    "elhfEFQqiiT0",
    "aehwEkTZlbuK"
   ],
   "name": "10/20_Litho_condition2.ipynb",
   "provenance": []
  },
  "kernelspec": {
   "display_name": "Python 3",
   "language": "python",
   "name": "python3"
  },
  "language_info": {
   "codemirror_mode": {
    "name": "ipython",
    "version": 3
   },
   "file_extension": ".py",
   "mimetype": "text/x-python",
   "name": "python",
   "nbconvert_exporter": "python",
   "pygments_lexer": "ipython3",
   "version": "3.8.5"
  }
 },
 "nbformat": 4,
 "nbformat_minor": 4
}
